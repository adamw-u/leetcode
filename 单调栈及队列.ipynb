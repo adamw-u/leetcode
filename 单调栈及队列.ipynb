{
 "cells": [
  {
   "cell_type": "markdown",
   "metadata": {},
   "source": [
    "## 栈：LIFO（last in first out）性质\n",
    "#### 单调递增栈：栈内元素从栈底到栈顶递增。\n",
    "#### 单调递减栈：栈内元素从栈底到栈顶递减。\n",
    "## 应用场景：\n",
    "#### Next Greater Element：查找每个元素的下一个更大元素。\n",
    "#### Largest Rectangle in Histogram：求直方图中的最大矩形面积。"
   ]
  },
  {
   "cell_type": "markdown",
   "metadata": {},
   "source": []
  },
  {
   "cell_type": "markdown",
   "metadata": {},
   "source": [
    "#### 列表pop默认移除末尾一个元素，刚好添加也是从最后添加，所以与栈结构相符\n",
    "#### deque 的pop同样移除末尾右端元素，如要符合队列性质需使用 popleft"
   ]
  },
  {
   "cell_type": "code",
   "execution_count": null,
   "metadata": {},
   "outputs": [],
   "source": [
    "# List模仿栈，从右添加\n",
    "def maintain_increasing_stack(arr):\n",
    "    stack = []\n",
    "    result = []\n",
    "    for value in arr:\n",
    "        while stack and stack[-1] > value: ##  单调增，只有大于最大值的才能进栈\n",
    "            stack.pop() \n",
    "        stack.append(value)\n",
    "        result.append(list(stack))\n",
    "    return result\n",
    "\n",
    "\n",
    "def maintain_decreasing_stack(arr):\n",
    "    stack = []\n",
    "    result = []\n",
    "    for value in arr:\n",
    "        while stack and stack[-1] < value: ##  单调减，只有小于最小值的才能进栈\n",
    "            stack.pop()\n",
    "        stack.append(value)\n",
    "        result.append(list(stack))\n",
    "    return result"
   ]
  },
  {
   "cell_type": "markdown",
   "metadata": {},
   "source": [
    "## 队列 FIFO性质\n",
    "#### 单调队列是一种双端队列，其元素按一定顺序排列，适合在滑动窗口中查找最值。\n",
    "#### 单调递增队列：队列元素从头到尾递增。\n",
    "#### 单调递减队列：队列元素从头到尾递减。\n",
    "## 应用场景\n",
    "#### 滑动窗口最大值：给定一个数组和窗口大小，找到所有窗口内的最大值。\n",
    "#### 动态区间最值：当区间长度固定且数据流不断变化时，快速找到区间内的最值。"
   ]
  },
  {
   "cell_type": "code",
   "execution_count": 7,
   "metadata": {},
   "outputs": [
    {
     "name": "stdout",
     "output_type": "stream",
     "text": [
      "[3, 3, 2, 5]\n"
     ]
    }
   ],
   "source": [
    "from collections import deque\n",
    "\n",
    "def maintain_decreasing_queue(arr, k):\n",
    "    queue = deque()\n",
    "    result = []\n",
    "    for i, value in enumerate(arr):\n",
    "        # 移除队尾元素直到队尾元素大于当前值\n",
    "        while queue and queue[-1] < value:\n",
    "            queue.pop()\n",
    "        queue.append(value)\n",
    "        \n",
    "        # 移除队头元素如果队头元素不在窗口内\n",
    "        # 保证窗口覆盖大小为k？为什么不直接popleft，因为队首元素不一定是nums[i - k]所以加了这个判断\n",
    "        if i >= k and queue[0] == arr[i - k]:\n",
    "            queue.popleft()\n",
    "        \n",
    "        # 记录队头元素即为窗口的最大值\n",
    "        if i >= k - 1:\n",
    "            result.append(queue[0])\n",
    "    \n",
    "    return result\n",
    "\n",
    "arr = [1, 3, 1, 2, 0, 5]\n",
    "k = 3\n",
    "print(maintain_decreasing_queue(arr, k))\n"
   ]
  },
  {
   "cell_type": "markdown",
   "metadata": {},
   "source": [
    "## 总结\n",
    "#### 单调栈：通过维持元素的单调性，解决一些需要查找最近的更大/更小元素的问题。\n",
    "#### 单调队列：适合滑动窗口问题，快速获取固定区间内的最大或最小值。"
   ]
  },
  {
   "cell_type": "code",
   "execution_count": null,
   "metadata": {},
   "outputs": [],
   "source": []
  },
  {
   "cell_type": "markdown",
   "metadata": {},
   "source": [
    "## 优先队列\n",
    "#### 通过最小堆实现\n",
    "\n",
    "#### 典型应用：\n",
    "#### 任务调度：根据任务的优先级安排执行顺序。\n",
    "#### Dijkstra算法：用于最短路径搜索。\n",
    "#### 哈夫曼编码：用于构建最优二叉树。"
   ]
  },
  {
   "cell_type": "code",
   "execution_count": null,
   "metadata": {},
   "outputs": [],
   "source": [
    "import heapq\n",
    "\n",
    "# 创建一个空的优先队列\n",
    "priority_queue = []\n",
    "\n",
    "# 插入元素 (优先级, 元素)\n",
    "heapq.heappush(priority_queue, (2, 'task2'))\n",
    "heapq.heappush(priority_queue, (1, 'task1'))\n",
    "heapq.heappush(priority_queue, (3, 'task3'))\n",
    "\n",
    "# 弹出优先级最高的元素（即优先级最小的）\n",
    "while priority_queue:\n",
    "    priority = heapq.heappop(priority_queue)\n",
    "    print(priority)"
   ]
  },
  {
   "cell_type": "code",
   "execution_count": null,
   "metadata": {},
   "outputs": [],
   "source": [
    "# 1834 单线程CPU\n",
    "from typing import List\n",
    "import heapq\n",
    "class Solution:\n",
    "    def getOrder(self, tasks: List[List[int]]) -> List[int]:\n",
    "        new_tasks = []\n",
    "        for i,j in enumerate(tasks):\n",
    "            # tasks[0] 任务进入队列时间，进入后不一定执行，从队列里面选择执行时间最小的执行\n",
    "            # tasks[1] 任务花费时间\n",
    "            new_tasks.append([j[0], j[1], i])\n",
    "        new_tasks.sort()\n",
    "        # 创建优先队列及结果存储表\n",
    "        pq = []\n",
    "        res = []\n",
    "\n",
    "        i = 0\n",
    "        ptime = new_tasks[0][0]\n",
    "        while len(res) < len(new_tasks):\n",
    "            while i < len(new_tasks) and ptime >= new_tasks[i][0]: # 加入优先队列条件：前序任务开始时间+执行时间>=任务的开始时间\n",
    "                # 优先队列heapq通过第一个元素构造最小堆\n",
    "                heapq.heappush(pq, (new_tasks[i][1], new_tasks[i][2], new_tasks[i][0]))\n",
    "                i += 1\n",
    "            if pq:\n",
    "                process, index, _ = heapq.heappop(pq)\n",
    "                ptime += process\n",
    "                res.append(index)\n",
    "            else:\n",
    "                ptime = new_tasks[i][0]\n",
    "        \n",
    "        return res "
   ]
  }
 ],
 "metadata": {
  "kernelspec": {
   "display_name": "base",
   "language": "python",
   "name": "python3"
  },
  "language_info": {
   "codemirror_mode": {
    "name": "ipython",
    "version": 3
   },
   "file_extension": ".py",
   "mimetype": "text/x-python",
   "name": "python",
   "nbconvert_exporter": "python",
   "pygments_lexer": "ipython3",
   "version": "3.8.16"
  }
 },
 "nbformat": 4,
 "nbformat_minor": 2
}
