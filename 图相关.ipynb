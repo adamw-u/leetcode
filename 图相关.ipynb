{
 "cells": [
  {
   "cell_type": "markdown",
   "metadata": {},
   "source": [
    "## 递归之可变与不可变对象，具体见day77\n",
    "#### python的不可变对象，如int，string，float，tuple ， 必须在每次递归时做return(visited, size = dfs(i, visited, size = size))，才能随着每次迭代进行改变\n",
    "#### 而可变对象如：List Dict Set 则可以不用return（dfs(i, visited, size = size)）进行改变\n",
    "#### 如果不进行赋值，最外层的 不可变对象 始终是递归初始的值，因此最终的 size 仍然是初次递归时 dfs(0) 中的 size。"
   ]
  },
  {
   "cell_type": "code",
   "execution_count": null,
   "metadata": {},
   "outputs": [],
   "source": [
    "# 示例图，邻接表表示\n",
    "graph = {\n",
    "    'A': ['B', 'C'],\n",
    "    'B': ['A', 'D', 'E'],\n",
    "    'C': ['A', 'F'],\n",
    "    'D': ['B'],\n",
    "    'E': ['B', 'F'],\n",
    "    'F': ['C', 'E']\n",
    "}\n",
    "\n",
    "def dfs(graph, start, visited=None):\n",
    "    if not visited:\n",
    "        visited = []\n",
    "    visited.append(start)\n",
    "    \n",
    "    for i in graph[start]:\n",
    "        if i not in visited:\n",
    "            dfs(graph, i, visited)\n",
    "    return visited\n",
    "\n",
    "from collections import deque\n",
    "def bfs(graph, start):\n",
    "    queue = deque([start])\n",
    "    visited = []\n",
    "\n",
    "    while queue:\n",
    "        q = queue.popleft()\n",
    "        if q not in visited:\n",
    "            visited.append(q)\n",
    "            queue.extend(graph[q])\n",
    "    \n",
    "    return visited\n",
    "\n",
    "dfs(graph, 'A'), bfs(graph, 'A')"
   ]
  },
  {
   "cell_type": "code",
   "execution_count": 2,
   "metadata": {},
   "outputs": [
    {
     "data": {
      "text/plain": [
       "{1: [2, 3], 2: [1, 4], 3: [1], 4: [2]}"
      ]
     },
     "execution_count": 2,
     "metadata": {},
     "output_type": "execute_result"
    }
   ],
   "source": [
    "# 构建邻接表\n",
    "N = 4\n",
    "dislikes = [[1,2],[1,3],[2,4]]\n",
    "\n",
    "adj = {i: [] for i in range(1, N + 1)}\n",
    "for a, b in dislikes:\n",
    "    adj[a].append(b)\n",
    "    adj[b].append(a)\n",
    "\n",
    "adj"
   ]
  },
  {
   "cell_type": "markdown",
   "metadata": {},
   "source": [
    "## 拓扑排序\n",
    "#### （Topological Sorting）是一种用于有向无环图（DAG, Directed Acyclic Graph）节点排序的方法。拓扑排序广泛用于解决依赖关系的问题，如任务调度、编译依赖、课程安排等。\n",
    "\n",
    "#### 给定一个 DAG，如果从 i 到 j 有边，则认为 j 依赖于 i。如果 i 到 j 有路径（i 可达 j），则称 j 间接依赖于 i。拓扑排序的目标是将所有节点排序，使得排在前面的节点不能依赖于排在后面的节点。"
   ]
  },
  {
   "cell_type": "code",
   "execution_count": 7,
   "metadata": {},
   "outputs": [
    {
     "name": "stdout",
     "output_type": "stream",
     "text": [
      "拓扑排序: [4, 5, 0, 2, 3, 1]\n"
     ]
    }
   ],
   "source": [
    "from collections import defaultdict\n",
    "\n",
    "def topological_sort_dfs(N, edges):\n",
    "    # 构建邻接表  有向图\n",
    "    graph = defaultdict(list)\n",
    "    for u, v in edges:\n",
    "        graph[u].append(v)\n",
    "    \n",
    "    visited = [False] * N\n",
    "    topo_order = []  # 存储拓扑排序结果\n",
    "    temp_stack = set()  # 检测是否存在环\n",
    "\n",
    "    def dfs(node):\n",
    "        if node in temp_stack: \n",
    "            # 同一个node两次出现在temp_stack说明有环\n",
    "            raise ValueError(\"Graph contains a cycle!\")\n",
    "        if visited[node]:\n",
    "            return\n",
    "        \n",
    "        temp_stack.add(node)   \n",
    "        visited[node] = True   \n",
    "        \n",
    "        for neighbor in graph[node]:\n",
    "            dfs(neighbor)\n",
    "        # 找到第一个没有依赖的节点加入topo_order开始往上回溯\n",
    "        topo_order.append(node)  # 后序遍历   # 1 - 3 -2 - 0 - 5 - 4\n",
    "        temp_stack.remove(node)  #  \n",
    "\n",
    "    for node in range(N-1, -1, -1):\n",
    "        if not visited[node]:\n",
    "            dfs(node)\n",
    "    \n",
    "    return topo_order[::-1]  # 结果反转\n",
    "    \n",
    "# 示例图：N = 6, 节点从 0 到 5\n",
    "edges = [(5, 2), (5, 0), (4, 0), (4, 1), (2, 3), (3, 1)]\n",
    "\n",
    "try:\n",
    "    result = topological_sort_dfs(6, edges)\n",
    "    print(\"拓扑排序:\", result)\n",
    "except ValueError as e:\n",
    "    print(e)"
   ]
  },
  {
   "cell_type": "code",
   "execution_count": 11,
   "metadata": {},
   "outputs": [
    {
     "name": "stdout",
     "output_type": "stream",
     "text": [
      "拓扑排序: [4, 5, 2, 0, 3, 1]\n"
     ]
    }
   ],
   "source": [
    "from collections import deque, defaultdict\n",
    "\n",
    "def topological_sort_bfs(N, edges):\n",
    "    # 构建邻接表\n",
    "    graph = defaultdict(list)\n",
    "    in_degree = defaultdict(int)  # 记录每个节点的入度\n",
    "    \n",
    "    # 构建图，并计算入度\n",
    "    for u, v in edges:\n",
    "        graph[u].append(v)\n",
    "        in_degree[v] += 1\n",
    "    \n",
    "    # 将入度为 0 的节点加入队列\n",
    "    queue = deque([node for node in range(N) if in_degree[node] == 0])\n",
    "    topo_order = []\n",
    "    \n",
    "    while queue:\n",
    "        node = queue.popleft()\n",
    "        topo_order.append(node)\n",
    "        \n",
    "        # 对每个相邻节点，减少其入度，如果入度为 0，则加入队列\n",
    "        for neighbor in graph[node]:\n",
    "            in_degree[neighbor] -= 1\n",
    "            if in_degree[neighbor] == 0:\n",
    "                queue.append(neighbor)\n",
    "    \n",
    "    # 如果拓扑排序包含的节点数少于 N，说明有环\n",
    "    if len(topo_order) != N:\n",
    "        raise ValueError(\"Graph contains a cycle!\")\n",
    "    \n",
    "    return topo_order\n",
    "\n",
    "# 示例图：N = 6, 节点从 0 到 5\n",
    "edges = [(5, 2), (5, 0), (4, 0), (4, 1), (2, 3), (3, 1)]\n",
    "\n",
    "try:\n",
    "    result = topological_sort_bfs(6, edges)\n",
    "    print(\"拓扑排序:\", result)\n",
    "except ValueError as e:\n",
    "    print(e)\n"
   ]
  },
  {
   "cell_type": "code",
   "execution_count": 10,
   "metadata": {},
   "outputs": [
    {
     "data": {
      "text/plain": [
       "defaultdict(int, {2: 1, 0: 2, 1: 2, 3: 1})"
      ]
     },
     "execution_count": 10,
     "metadata": {},
     "output_type": "execute_result"
    }
   ],
   "source": [
    "edges = [(5, 2), (5, 0), (4, 0), (4, 1), (2, 3), (3, 1)]\n",
    "N = 6\n",
    "graph = defaultdict(list)\n",
    "in_degree = defaultdict(int) # 记录每个节点的入度\n",
    "\n",
    "# 构建图，并计算入度\n",
    "for u, v in edges:\n",
    "    graph[u].append(v)\n",
    "    in_degree[v] += 1\n",
    "\n",
    "in_degree"
   ]
  },
  {
   "cell_type": "markdown",
   "metadata": {},
   "source": [
    "## 并查集\n",
    "#### 合并（Union）：将两个元素所在的集合合并为一个集合。\n",
    "#### 查找（Find）：查找某个元素所属的集合，通常返回这个集合的代表元素。\n",
    "#### 并查集非常适合用于解决图的连通性问题，如判定图中某两个节点是否连通、动态维护连通分量等。"
   ]
  },
  {
   "cell_type": "code",
   "execution_count": 1,
   "metadata": {},
   "outputs": [],
   "source": [
    "class UnionFind:\n",
    "    def __init__(self, n):\n",
    "        # 初始化 n 个元素，每个元素的父节点指向自己\n",
    "        self.parent = [i for i in range(n)]\n",
    "        # 初始化每个集合的大小（也可以理解为秩 rank，用于按秩合并）\n",
    "        self.rank = [1] * n\n",
    "\n",
    "    def find(self, x):\n",
    "        # 查找 x 所在的集合根节点，并进行路径压缩\n",
    "        if self.parent[x] != x:\n",
    "            self.parent[x] = self.find(self.parent[x])\n",
    "        return self.parent[x]\n",
    "\n",
    "    def union(self, x, y):\n",
    "        # 找到 x 和 y 的根节点\n",
    "        rootX = self.find(x)\n",
    "        rootY = self.find(y)\n",
    "        \n",
    "        # 如果两个元素属于不同的集合，则合并它们\n",
    "        if rootX != rootY:\n",
    "            # 按秩合并，将小树合并到大树上\n",
    "            if self.rank[rootX] > self.rank[rootY]:\n",
    "                self.parent[rootY] = rootX\n",
    "            elif self.rank[rootX] < self.rank[rootY]:\n",
    "                self.parent[rootX] = rootY\n",
    "            else:\n",
    "                # 如果 rank 相同，随便合并，并增加新树的 rank\n",
    "                self.parent[rootY] = rootX\n",
    "                self.rank[rootX] += 1\n",
    "\n",
    "    def connected(self, x, y):\n",
    "        # 判断 x 和 y 是否属于同一个集合\n",
    "        return self.find(x) == self.find(y)\n"
   ]
  },
  {
   "cell_type": "code",
   "execution_count": 2,
   "metadata": {},
   "outputs": [
    {
     "name": "stdout",
     "output_type": "stream",
     "text": [
      "True\n",
      "False\n"
     ]
    }
   ],
   "source": [
    "# 创建一个包含 5 个元素（0, 1, 2, 3, 4）的并查集\n",
    "# uf = UnionFind(5)\n",
    "# uf.parent, uf.rank\n",
    "\n",
    "# 示例：连通性问题\n",
    "n = 5  # 图中有5个节点，编号0到4\n",
    "edges = [(0, 1), (1, 2), (3, 4)]  # 三条边\n",
    "\n",
    "uf = UnionFind(n)\n",
    "\n",
    "# 合并每条边\n",
    "for u, v in edges:\n",
    "    uf.union(u, v)\n",
    "\n",
    "# 判断是否连通\n",
    "print(uf.connected(0, 2))  # 输出：True\n",
    "print(uf.connected(0, 3))  # 输出：False"
   ]
  },
  {
   "cell_type": "code",
   "execution_count": 5,
   "metadata": {},
   "outputs": [
    {
     "data": {
      "text/plain": [
       "([0, 0, 0, 3, 3], [2, 1, 1, 2, 1])"
      ]
     },
     "execution_count": 5,
     "metadata": {},
     "output_type": "execute_result"
    }
   ],
   "source": [
    "uf.parent, uf.rank"
   ]
  },
  {
   "cell_type": "code",
   "execution_count": 6,
   "metadata": {},
   "outputs": [],
   "source": []
  },
  {
   "cell_type": "code",
   "execution_count": null,
   "metadata": {},
   "outputs": [],
   "source": []
  }
 ],
 "metadata": {
  "kernelspec": {
   "display_name": "base",
   "language": "python",
   "name": "python3"
  },
  "language_info": {
   "codemirror_mode": {
    "name": "ipython",
    "version": 3
   },
   "file_extension": ".py",
   "mimetype": "text/x-python",
   "name": "python",
   "nbconvert_exporter": "python",
   "pygments_lexer": "ipython3",
   "version": "3.8.16"
  }
 },
 "nbformat": 4,
 "nbformat_minor": 2
}
