{
 "cells": [
  {
   "cell_type": "code",
   "execution_count": 2,
   "metadata": {},
   "outputs": [],
   "source": [
    "## 参考知乎回答：https://www.zhihu.com/question/21923021/answer/1032665486\n",
    "# 时间复杂度O(n+m)\n",
    "\n",
    "p = 'abcabdddabcabc'\n",
    "def next(p):\n",
    "    \"\"\"\n",
    "    https://www.zhihu.com/question/21923021/answer/1032665486\n",
    "    \"\"\"\n",
    "    nxt = []\n",
    "    nxt.append(0)\n",
    "    now = 0 \n",
    "    x = 1\n",
    "    while x < len(p):\n",
    "        if p[now] == p[x]:\n",
    "            now += 1\n",
    "            x += 1\n",
    "            nxt.append(now)\n",
    "        elif now:  \n",
    "            #  您应该已经注意到了一个非常强的性质——串A和串B是相同的！B的后缀等于A的后缀！因此，使得A的k-前缀等于B的k-后缀的最大的k，其实就是串A的最长公共前后缀的长度 —— next[now-1]！\n",
    "            #  如果置成0显然结果是错的，因为nxt最后一位实际是3不是0\n",
    "            now = nxt[now-1] # 以上面p = 'abcabdddabcabc'为例子，这里当x = -1时候，now = nxt[5-1] = 2， 即abcab的公共前后缀'ab'所以是2\n",
    "        else:\n",
    "            nxt.append(0)\n",
    "            x += 1\n",
    "    return nxt "
   ]
  },
  {
   "cell_type": "code",
   "execution_count": 6,
   "metadata": {},
   "outputs": [
    {
     "name": "stdout",
     "output_type": "stream",
     "text": [
      "3\n",
      "8\n"
     ]
    }
   ],
   "source": [
    "def search(s, p, nxt):\n",
    "    tar = 0     # 主串匹配的位置\n",
    "    pos = 0     # 模式串匹配的位置\n",
    "    \n",
    "    while tar < len(s):\n",
    "        if s[tar] == p[pos]:\n",
    "            tar += 1\n",
    "            pos += 1\n",
    "        elif pos: # 失配。如果pos!=0，则依据next数据移动标尺\n",
    "            pos = nxt[pos - 1]\n",
    "        else:        # pos[0]失配，直接把标尺向右移动一位\n",
    "            tar += 1\n",
    "        \n",
    "        if pos == len(p):    # 模式串匹配长度与len(p)一致，匹配成功\n",
    "            print(tar - pos) #\n",
    "            pos = nxt[pos-1] # 移动标尺\n",
    "\n",
    "s = 'AAAAAABCAAAB'\n",
    "p = 'AAAB'\n",
    "nxt = next(p)\n",
    "search(s, p, nxt)"
   ]
  },
  {
   "cell_type": "code",
   "execution_count": null,
   "metadata": {},
   "outputs": [],
   "source": []
  }
 ],
 "metadata": {
  "kernelspec": {
   "display_name": "tas",
   "language": "python",
   "name": "python3"
  },
  "language_info": {
   "codemirror_mode": {
    "name": "ipython",
    "version": 3
   },
   "file_extension": ".py",
   "mimetype": "text/x-python",
   "name": "python",
   "nbconvert_exporter": "python",
   "pygments_lexer": "ipython3",
   "version": "3.9.17"
  }
 },
 "nbformat": 4,
 "nbformat_minor": 2
}
