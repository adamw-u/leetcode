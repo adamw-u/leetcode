{
 "cells": [
  {
   "cell_type": "markdown",
   "metadata": {},
   "source": [
    "## [889根据前序和后序遍历构造二叉树](https://leetcode.cn/problems/construct-binary-tree-from-preorder-and-postorder-traversal/description/)\n",
    "## [105从前序与中序遍历序列构造二叉树](https://leetcode.cn/problems/construct-binary-tree-from-preorder-and-inorder-traversal/description/)\n",
    "## [106从中序与后序遍历序列构造二叉树](https://leetcode.cn/problems/construct-binary-tree-from-inorder-and-postorder-traversal/description/)\n",
    "\n",
    "#### 前序遍历：根 --> 左 -->右\n",
    "#### 中序遍历: 左 --> 根 -->右\n",
    "#### 后续遍历: 左 --> 右 -->根"
   ]
  },
  {
   "cell_type": "code",
   "execution_count": null,
   "metadata": {},
   "outputs": [],
   "source": [
    "class TreeNode:\n",
    "    def __init__(self, val=0, left=None, right=None):\n",
    "        self.val = val\n",
    "        self.left = left\n",
    "        self.right = right\n",
    "from typing import List, Optional\n",
    "class Solution:\n",
    "    def constructFromPrePost(self, preorder: List[int], postorder: List[int]) -> Optional[TreeNode]:\n",
    "        \"\"\"\n",
    "        preorder: root -> left -> right \n",
    "        postorder: left -> right -> root \n",
    "        巧妙地方:假设preorder[1]为根节点，算出leftsize和rightsize\n",
    "        \"\"\"\n",
    "        if not preorder:\n",
    "            return None\n",
    "        if len(preorder)==1:\n",
    "            return TreeNode(preorder[0])\n",
    "        val = preorder[0]\n",
    "        falseVal = preorder[1]\n",
    "        root = TreeNode(val)\n",
    "        valIndex = postorder.index(falseVal)\n",
    "        leftSize = valIndex + 1\n",
    "        root.left = self.constructFromPrePost(preorder[1:leftSize+1], postorder[0:leftSize])\n",
    "        root.right = self.constructFromPrePost(preorder[leftSize+1::], postorder[leftSize:-1])\n",
    "        # print(leftSize, preorder[1:leftSize+1], preorder[leftSize+1::])\n",
    "        return root"
   ]
  },
  {
   "cell_type": "code",
   "execution_count": null,
   "metadata": {},
   "outputs": [],
   "source": [
    "# 106\n",
    "from typing import List, Optional\n",
    "class Solution:\n",
    "    def buildTree(self, inorder: List[int], postorder: List[int]) -> Optional[TreeNode]:\n",
    "        \"\"\"\n",
    "        postorder: left -> right -> root \n",
    "        inorder: left -> root -> right\n",
    "        \"\"\"\n",
    "        if not postorder:\n",
    "            return None \n",
    "        val = postorder[-1]\n",
    "        valIndex = inorder.index(val)\n",
    "        root = TreeNode(val)\n",
    "        root.left = self.buildTree(inorder[0: valIndex], postorder[0:valIndex])\n",
    "        root.right = self.buildTree(inorder[valIndex+1::], postorder[valIndex:-1])\n",
    "        # 时间空间复杂度 O(n**2)\n",
    "        return root \n",
    "    \n",
    "    ## 优化版本 时间空间复杂度 O(n)\n",
    "    def buildTree(self, inorder: List[int], postorder: List[int]) -> Optional[TreeNode]:\n",
    "        inorderdict = {j:i for i, j in enumerate(inorder)}\n",
    "        def build(inLeftIndex, inRightIndex, poLeftIndex, poRightIndex):\n",
    "            if inLeftIndex == inRightIndex:\n",
    "                return None \n",
    "            \n",
    "            val = postorder[poRightIndex-1]\n",
    "            root = TreeNode(val)\n",
    "            leftSize = inorderdict[val] - inLeftIndex\n",
    "            root.left = build(inLeftIndex, inLeftIndex + leftSize, poLeftIndex, poLeftIndex + leftSize)\n",
    "            root.right = build(inLeftIndex + leftSize + 1, inRightIndex, poLeftIndex + leftSize, poRightIndex - 1)\n",
    "            return root \n",
    "    \n",
    "        return build(0, len(inorder), 0, len(postorder))"
   ]
  }
 ],
 "metadata": {
  "language_info": {
   "name": "python"
  }
 },
 "nbformat": 4,
 "nbformat_minor": 2
}
