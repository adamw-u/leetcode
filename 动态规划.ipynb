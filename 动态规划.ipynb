{
 "cells": [
  {
   "cell_type": "markdown",
   "metadata": {},
   "source": [
    "## [1. 0-1背包问题](https://leetcode.cn/problems/partition-equal-subset-sum/solutions/2785266/0-1-bei-bao-cong-ji-yi-hua-sou-suo-dao-d-ev76/?source=vscode)\n",
    "#### 状态转移方程：dp[i][j] = dp[i-1][j] or dp[i-1][j-nums[i]]  选或者不选\n",
    "#### 为了降低空间复杂度，仅用dp[j] = dp[j] or dp[j-nums[i]], 需要j -> v...0 倒叙遍历\n",
    "#### 为了方便理解可以使用chatgpt举例说明：如果我们先更新 dp[3] = dp[3] or dp[3 - nums[i]]，再更新 dp[4] = dp[4] or dp[4 - nums[i]]，由于 dp[3] 可能已经在本轮更新中通过 nums[i] 变成了 True，那么 dp[4] 也可能会使用这个刚刚更新的 dp[3]，相当于 nums[i] 在同一轮中被用了两次。"
   ]
  },
  {
   "cell_type": "code",
   "execution_count": null,
   "metadata": {},
   "outputs": [],
   "source": [
    "### 代码 leetcode416\n",
    "from typing import List\n",
    "def canPartition(nums: List[int]) -> bool:\n",
    "    s = sum(nums)\n",
    "    if s % 2:\n",
    "        return False\n",
    "    s //= 2  # 注意这里把 s 减半了\n",
    "    n = len(nums)\n",
    "    f = [[False] * (s + 1) for _ in range(n + 1)]\n",
    "    f[0][0] = True\n",
    "    for i, x in enumerate(nums):\n",
    "        for j in range(s + 1):\n",
    "            if j >= x:\n",
    "                f[i + 1][j] = f[i][j - x] or f[i][j]\n",
    "            else:\n",
    "                f[i + 1][j] = f[i][j]  \n",
    "    return f[n][s]\n",
    "\n",
    "def canPartition(nums: List[int]) -> bool:\n",
    "    s = sum(nums)\n",
    "    if s % 2:\n",
    "        return False\n",
    "    s //= 2  # 注意这里把 s 减半了\n",
    "    f = [True] + [False] * s\n",
    "    s2 = 0\n",
    "    for i, x in enumerate(nums):\n",
    "        s2 = min(s2 + x, s)  # 子序列和与s的最小值，前面是因为取不到，后面是没必要，因为超过s就不对了\n",
    "        for j in range(s2, x - 1, -1):\n",
    "            f[j] = f[j] or f[j - x]\n",
    "    return f[s]\n",
    "\n"
   ]
  }
 ],
 "metadata": {
  "language_info": {
   "name": "python"
  }
 },
 "nbformat": 4,
 "nbformat_minor": 2
}
